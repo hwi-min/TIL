{
 "cells": [
  {
   "cell_type": "markdown",
   "id": "1099c816",
   "metadata": {},
   "source": [
    "# 완전탐색 (반복문 기반: Simulation)\n",
    "\n",
    "### 예제   \n",
    "크기가 N*N인 격자에 1*3 직사각형을 잘 잡아 돈을 최대로 얻는 프로그램을 작성하시오.\n",
    "\n",
    "Input:   \n",
    "5   \n",
    "0 0 0 0 0   \n",
    "0 1 0 0 0   \n",
    "0 0 1 0 1    \n",
    "0 0 0 0 0   \n",
    "0 0 0 1 0    \n",
    "\n",
    "Output:   \n",
    "2"
   ]
  },
  {
   "cell_type": "code",
   "execution_count": null,
   "id": "f4d0e70e",
   "metadata": {},
   "outputs": [],
   "source": [
    "T = int(input())\n",
    "for t in range(1, T+1):\n",
    "    N = int(input())\n",
    "    grid = [list(map(int, input().split())) for _ in range(N)]\n",
    "    max_sum = 0\n",
    "\n",
    "    for i in range(N): # 행 순회\n",
    "        for j in range(0, N-2): # 열 순회\n",
    "            sub_sum = sum(grid[i][j:j+3])\n",
    "\n",
    "            if sub_sum > max_sum:\n",
    "                max_sum = sub_sum\n",
    "\n",
    "    print(f\"#{t} {max_sum}\")\n",
    "        "
   ]
  },
  {
   "cell_type": "markdown",
   "id": "807b6026",
   "metadata": {},
   "source": [
    "### 예제2\n",
    "N * N 크기의 격자에 3 * 3 정사각형을 잘 잡아 돈을 최대로 얻는 프로그램을 작성하시오.    \n",
    "Input:   \n",
    "5   \n",
    "0 0 0 0 0   \n",
    "0 1 0 0 0   \n",
    "0 0 1 0 1    \n",
    "0 0 0 0 0   \n",
    "0 0 0 1 0    \n",
    "\n",
    "Output:   \n",
    "3"
   ]
  },
  {
   "cell_type": "code",
   "execution_count": null,
   "id": "f7815406",
   "metadata": {},
   "outputs": [
    {
     "ename": "TypeError",
     "evalue": "unsupported operand type(s) for +: 'int' and 'list'",
     "output_type": "error",
     "traceback": [
      "\u001b[31m---------------------------------------------------------------------------\u001b[39m",
      "\u001b[31mTypeError\u001b[39m                                 Traceback (most recent call last)",
      "\u001b[36mCell\u001b[39m\u001b[36m \u001b[39m\u001b[32mIn[1]\u001b[39m\u001b[32m, line 9\u001b[39m\n\u001b[32m      7\u001b[39m \u001b[38;5;28;01mfor\u001b[39;00m i \u001b[38;5;129;01min\u001b[39;00m \u001b[38;5;28mrange\u001b[39m(N-\u001b[32m2\u001b[39m):\n\u001b[32m      8\u001b[39m     \u001b[38;5;28;01mfor\u001b[39;00m j \u001b[38;5;129;01min\u001b[39;00m \u001b[38;5;28mrange\u001b[39m(N-\u001b[32m2\u001b[39m):\n\u001b[32m----> \u001b[39m\u001b[32m9\u001b[39m         sub_sum = \u001b[38;5;28;43msum\u001b[39;49m\u001b[43m(\u001b[49m\u001b[43mgrid\u001b[49m\u001b[43m[\u001b[49m\u001b[43mi\u001b[49m\u001b[43m:\u001b[49m\u001b[43mi\u001b[49m\u001b[43m+\u001b[49m\u001b[43mk\u001b[49m\u001b[43m]\u001b[49m\u001b[43m[\u001b[49m\u001b[43mj\u001b[49m\u001b[43m:\u001b[49m\u001b[43mj\u001b[49m\u001b[43m+\u001b[49m\u001b[32;43m3\u001b[39;49m\u001b[43m]\u001b[49m\u001b[43m \u001b[49m\u001b[38;5;28;43;01mfor\u001b[39;49;00m\u001b[43m \u001b[49m\u001b[43mk\u001b[49m\u001b[43m \u001b[49m\u001b[38;5;129;43;01min\u001b[39;49;00m\u001b[43m \u001b[49m\u001b[38;5;28;43mrange\u001b[39;49m\u001b[43m(\u001b[49m\u001b[32;43m3\u001b[39;49m\u001b[43m)\u001b[49m\u001b[43m)\u001b[49m\n\u001b[32m     11\u001b[39m         \u001b[38;5;28;01mif\u001b[39;00m sub_sum > max_sum:\n\u001b[32m     12\u001b[39m             max_sum = sub_sum\n",
      "\u001b[31mTypeError\u001b[39m: unsupported operand type(s) for +: 'int' and 'list'"
     ]
    }
   ],
   "source": [
    "T = int(input())\n",
    "for t in range(1, T+1):\n",
    "    N = int(input())\n",
    "    grid = [list(map(int, input().split())) for _ in range(N)]\n",
    "    max_sum = 0\n",
    "\n",
    "    for i in range(N-2):\n",
    "        for j in range(N-2):\n",
    "            sub_sum = sum(sum(grid[i+k][j:j+3] for k in range(3)))\n",
    "\n",
    "            if sub_sum > max_sum:\n",
    "                max_sum = sub_sum\n",
    "\n",
    "    print(f\"#{t} {max_sum}\")"
   ]
  },
  {
   "cell_type": "code",
   "execution_count": null,
   "id": "4ea6cca4",
   "metadata": {},
   "outputs": [],
   "source": []
  }
 ],
 "metadata": {
  "kernelspec": {
   "display_name": "Python 3",
   "language": "python",
   "name": "python3"
  },
  "language_info": {
   "codemirror_mode": {
    "name": "ipython",
    "version": 3
   },
   "file_extension": ".py",
   "mimetype": "text/x-python",
   "name": "python",
   "nbconvert_exporter": "python",
   "pygments_lexer": "ipython3",
   "version": "3.11.9"
  }
 },
 "nbformat": 4,
 "nbformat_minor": 5
}
