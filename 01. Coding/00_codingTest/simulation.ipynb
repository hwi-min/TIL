{
 "cells": [
  {
   "cell_type": "markdown",
   "id": "1099c816",
   "metadata": {},
   "source": [
    "# 완전탐색 (반복문 기반: Simulation)\n",
    "\n",
    "### 예제   \n",
    "크기가 N*N인 격자에 1*3 직사각형을 잘 잡아 돈을 최대로 얻는 프로그램을 작성하시오.\n",
    "\n",
    "Input:   \n",
    "5   \n",
    "0 0 0 0 0   \n",
    "0 1 0 0 0   \n",
    "0 0 1 0 1    \n",
    "0 0 0 0 0   \n",
    "0 0 0 1 0    \n",
    "\n",
    "Output:   \n",
    "2"
   ]
  },
  {
   "cell_type": "code",
   "execution_count": null,
   "id": "f4d0e70e",
   "metadata": {},
   "outputs": [],
   "source": [
    "T = int(input())\n",
    "for t in range(1, T+1):\n",
    "    N = int(input())\n",
    "    grid = [list(map(int, input().split())) for _ in range(N)]\n",
    "    max_sum = 0\n",
    "\n",
    "    for i in range(N): # 행 순회\n",
    "        for j in range(0, N-2): # 열 순회\n",
    "            sub_sum = sum(grid[i][j:j+3])\n",
    "\n",
    "            if sub_sum > max_sum:\n",
    "                max_sum = sub_sum\n",
    "\n",
    "    print(f\"#{t} {max_sum}\")\n",
    "        "
   ]
  },
  {
   "cell_type": "markdown",
   "id": "807b6026",
   "metadata": {},
   "source": [
    "### 예제2\n",
    "N * N 크기의 격자에 3 * 3 정사각형을 잘 잡아 돈을 최대로 얻는 프로그램을 작성하시오.    \n",
    "Input:   \n",
    "5   \n",
    "0 0 0 0 0   \n",
    "0 1 0 0 0   \n",
    "0 0 1 0 1    \n",
    "0 0 0 0 0   \n",
    "0 0 0 1 0    \n",
    "\n",
    "Output:   \n",
    "3"
   ]
  },
  {
   "cell_type": "code",
   "execution_count": null,
   "id": "f7815406",
   "metadata": {},
   "outputs": [],
   "source": [
    "T = int(input())\n",
    "for t in range(1, T+1):\n",
    "    N = int(input())\n",
    "    grid = [list(map(int, input().split())) for _ in range(N)]\n",
    "    max_sum = 0\n",
    "\n",
    "    for i in range(N-2):\n",
    "        for j in range(N-2):\n",
    "            sub_sum = sum(sum(grid[i+k][j:j+3] for k in range(3)))\n",
    "\n",
    "            if sub_sum > max_sum:\n",
    "                max_sum = sub_sum\n",
    "\n",
    "    print(f\"#{t} {max_sum}\")"
   ]
  }
 ],
 "metadata": {
  "kernelspec": {
   "display_name": "Python 3",
   "language": "python",
   "name": "python3"
  },
  "language_info": {
   "codemirror_mode": {
    "name": "ipython",
    "version": 3
   },
   "file_extension": ".py",
   "mimetype": "text/x-python",
   "name": "python",
   "nbconvert_exporter": "python",
   "pygments_lexer": "ipython3",
   "version": "3.11.9"
  }
 },
 "nbformat": 4,
 "nbformat_minor": 5
}
